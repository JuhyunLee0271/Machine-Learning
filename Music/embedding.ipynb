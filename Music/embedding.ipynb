{
 "cells": [
  {
   "cell_type": "markdown",
   "metadata": {},
   "source": [
    "FastText 사용 Embedding\n",
    "(Word2Vec의 경우 단어사전(vocab)에 없는 단어의 경우 유사도를 측정하지 못하기 때문에 FastText를 사용함)"
   ]
  },
  {
   "cell_type": "code",
   "execution_count": 32,
   "metadata": {},
   "outputs": [],
   "source": [
    "from gensim import models"
   ]
  },
  {
   "cell_type": "code",
   "execution_count": 35,
   "metadata": {},
   "outputs": [],
   "source": [
    "model = models.fasttext.load_facebook_model('./cc.ko.300.bin')"
   ]
  },
  {
   "cell_type": "code",
   "execution_count": 62,
   "metadata": {},
   "outputs": [
    {
     "name": "stdout",
     "output_type": "stream",
     "text": [
      "포켓몬스터: 0.5723075270652771\n",
      "461-480: 0.565423846244812\n",
      "포켓몬의: 0.5595500469207764\n",
      "이상해씨: 0.5486098527908325\n",
      "포켓몬들: 0.5472034215927124\n",
      "몬스터볼: 0.5461771488189697\n",
      "포켓몬이: 0.5458993911743164\n",
      "포켓몬을: 0.54584801197052\n",
      "포켓스톱: 0.5433107614517212\n",
      "GO가: 0.5427455902099609\n"
     ]
    }
   ],
   "source": [
    "for w, sim in model.wv.similar_by_word('포켓몬', 10):\n",
    "    print(F\"{w}: {sim}\")"
   ]
  }
 ],
 "metadata": {
  "interpreter": {
   "hash": "b0fa6594d8f4cbf19f97940f81e996739fb7646882a419484c72d19e05852a7e"
  },
  "kernelspec": {
   "display_name": "Python 3.9.10 64-bit",
   "language": "python",
   "name": "python3"
  },
  "language_info": {
   "codemirror_mode": {
    "name": "ipython",
    "version": 3
   },
   "file_extension": ".py",
   "mimetype": "text/x-python",
   "name": "python",
   "nbconvert_exporter": "python",
   "pygments_lexer": "ipython3",
   "version": "3.8.13"
  },
  "orig_nbformat": 4
 },
 "nbformat": 4,
 "nbformat_minor": 2
}
