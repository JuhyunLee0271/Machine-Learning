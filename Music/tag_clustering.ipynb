{
 "cells": [
  {
   "cell_type": "code",
   "execution_count": 1,
   "metadata": {},
   "outputs": [],
   "source": [
    "import json\n",
    "import pandas as pd\n",
    "from sklearn.feature_extraction.text import TfidfVectorizer\n",
    "from sklearn.preprocessing import normalize\n",
    "from sklearn.cluster import KMeans\n",
    "import matplotlib.pyplot as plt"
   ]
  },
  {
   "cell_type": "code",
   "execution_count": 2,
   "metadata": {},
   "outputs": [],
   "source": [
    "with open('./processed_song.json', 'r', encoding='UTF8') as f:\n",
    "    data = json.load(f)\n",
    "df = pd.json_normalize(data)\n",
    "df = df[df['count'] > 0]"
   ]
  },
  {
   "cell_type": "code",
   "execution_count": 3,
   "metadata": {},
   "outputs": [],
   "source": [
    "# 태그들의 리스트, K-means clustering을 위한 input 값\n",
    "content = []\n",
    "for idx, row in df.iterrows():\n",
    "    string = ' '.join(row.tags)\n",
    "    df.at[idx, 'tag'] = string\n",
    "    content.append(string)"
   ]
  },
  {
   "cell_type": "code",
   "execution_count": 4,
   "metadata": {},
   "outputs": [
    {
     "name": "stdout",
     "output_type": "stream",
     "text": [
      "74259\n"
     ]
    }
   ],
   "source": [
    "print(len(content))"
   ]
  },
  {
   "cell_type": "code",
   "execution_count": 12,
   "metadata": {},
   "outputs": [],
   "source": [
    "n_clusters = 10\n",
    "vectorizer = TfidfVectorizer()\n",
    "X = vectorizer.fit_transform(content)\n",
    "\n",
    "kmeans = KMeans(n_clusters=n_clusters).fit(X)\n",
    "\n",
    "labels = kmeans.labels_\n",
    "centers = kmeans.cluster_centers_\n",
    "df['labels'] = labels"
   ]
  },
  {
   "cell_type": "code",
   "execution_count": 13,
   "metadata": {},
   "outputs": [
    {
     "data": {
      "text/html": [
       "<div>\n",
       "<style scoped>\n",
       "    .dataframe tbody tr th:only-of-type {\n",
       "        vertical-align: middle;\n",
       "    }\n",
       "\n",
       "    .dataframe tbody tr th {\n",
       "        vertical-align: top;\n",
       "    }\n",
       "\n",
       "    .dataframe thead th {\n",
       "        text-align: right;\n",
       "    }\n",
       "</style>\n",
       "<table border=\"1\" class=\"dataframe\">\n",
       "  <thead>\n",
       "    <tr style=\"text-align: right;\">\n",
       "      <th></th>\n",
       "      <th>id</th>\n",
       "      <th>song_name</th>\n",
       "      <th>artist_name_basket</th>\n",
       "      <th>tags</th>\n",
       "      <th>count</th>\n",
       "      <th>tag</th>\n",
       "      <th>labels</th>\n",
       "    </tr>\n",
       "  </thead>\n",
       "  <tbody>\n",
       "    <tr>\n",
       "      <th>0</th>\n",
       "      <td>144663</td>\n",
       "      <td>밤편지</td>\n",
       "      <td>[아이유]</td>\n",
       "      <td>[감성, 발라드, 새벽, 밤, 인디, 비오는날, 슬픔, 새벽감성, 여름밤, 감성발라...</td>\n",
       "      <td>2175</td>\n",
       "      <td>감성 발라드 새벽 밤 인디 비오는날 슬픔 새벽감성 여름밤 감성발라드 비 혼자 잠들기...</td>\n",
       "      <td>3</td>\n",
       "    </tr>\n",
       "    <tr>\n",
       "      <th>1</th>\n",
       "      <td>116573</td>\n",
       "      <td>안아줘</td>\n",
       "      <td>[정준일]</td>\n",
       "      <td>[발라드, 이별, 새벽, 감성, 밤, 슬픔, 힐링, 기분전환, 가을, 카페, 비오는...</td>\n",
       "      <td>2121</td>\n",
       "      <td>발라드 이별 새벽 감성 밤 슬픔 힐링 기분전환 가을 카페 비오는날 외로움 쌀쌀한 쓸...</td>\n",
       "      <td>3</td>\n",
       "    </tr>\n",
       "    <tr>\n",
       "      <th>2</th>\n",
       "      <td>357367</td>\n",
       "      <td>비</td>\n",
       "      <td>[폴킴]</td>\n",
       "      <td>[감성, 발라드, 비오는날, 이별, 새벽, 사랑, 비, 휴식, 밤, 힐링, 센치, ...</td>\n",
       "      <td>1981</td>\n",
       "      <td>감성 발라드 비오는날 이별 새벽 사랑 비 휴식 밤 힐링 센치 혼자 장마 감성발라드 ...</td>\n",
       "      <td>3</td>\n",
       "    </tr>\n",
       "    <tr>\n",
       "      <th>3</th>\n",
       "      <td>366786</td>\n",
       "      <td>가끔 미치도록 네가 안고 싶어질 때가 있어</td>\n",
       "      <td>[가을방학]</td>\n",
       "      <td>[새벽, 인디, 밤, 감성, 발라드, 힐링, 추억, 기분전환, 카페, 비오는날, 인...</td>\n",
       "      <td>1919</td>\n",
       "      <td>새벽 인디 밤 감성 발라드 힐링 추억 기분전환 카페 비오는날 인디음악 락 새벽감성 ...</td>\n",
       "      <td>3</td>\n",
       "    </tr>\n",
       "    <tr>\n",
       "      <th>4</th>\n",
       "      <td>133143</td>\n",
       "      <td>그대와 나, 설레임 (Feat. 소울맨)</td>\n",
       "      <td>[어쿠스틱 콜라보]</td>\n",
       "      <td>[기분전환, 힐링, 카페, 발라드, 감성, 새벽, 밤, 기분좋은, 인디음악, 설레임...</td>\n",
       "      <td>1633</td>\n",
       "      <td>기분전환 힐링 카페 발라드 감성 새벽 밤 기분좋은 인디음악 설레임 주말 분위기 편안...</td>\n",
       "      <td>3</td>\n",
       "    </tr>\n",
       "  </tbody>\n",
       "</table>\n",
       "</div>"
      ],
      "text/plain": [
       "       id                song_name artist_name_basket  \\\n",
       "0  144663                      밤편지              [아이유]   \n",
       "1  116573                      안아줘              [정준일]   \n",
       "2  357367                        비               [폴킴]   \n",
       "3  366786  가끔 미치도록 네가 안고 싶어질 때가 있어             [가을방학]   \n",
       "4  133143   그대와 나, 설레임 (Feat. 소울맨)         [어쿠스틱 콜라보]   \n",
       "\n",
       "                                                tags  count  \\\n",
       "0  [감성, 발라드, 새벽, 밤, 인디, 비오는날, 슬픔, 새벽감성, 여름밤, 감성발라...   2175   \n",
       "1  [발라드, 이별, 새벽, 감성, 밤, 슬픔, 힐링, 기분전환, 가을, 카페, 비오는...   2121   \n",
       "2  [감성, 발라드, 비오는날, 이별, 새벽, 사랑, 비, 휴식, 밤, 힐링, 센치, ...   1981   \n",
       "3  [새벽, 인디, 밤, 감성, 발라드, 힐링, 추억, 기분전환, 카페, 비오는날, 인...   1919   \n",
       "4  [기분전환, 힐링, 카페, 발라드, 감성, 새벽, 밤, 기분좋은, 인디음악, 설레임...   1633   \n",
       "\n",
       "                                                 tag  labels  \n",
       "0  감성 발라드 새벽 밤 인디 비오는날 슬픔 새벽감성 여름밤 감성발라드 비 혼자 잠들기...       3  \n",
       "1  발라드 이별 새벽 감성 밤 슬픔 힐링 기분전환 가을 카페 비오는날 외로움 쌀쌀한 쓸...       3  \n",
       "2  감성 발라드 비오는날 이별 새벽 사랑 비 휴식 밤 힐링 센치 혼자 장마 감성발라드 ...       3  \n",
       "3  새벽 인디 밤 감성 발라드 힐링 추억 기분전환 카페 비오는날 인디음악 락 새벽감성 ...       3  \n",
       "4  기분전환 힐링 카페 발라드 감성 새벽 밤 기분좋은 인디음악 설레임 주말 분위기 편안...       3  "
      ]
     },
     "execution_count": 13,
     "metadata": {},
     "output_type": "execute_result"
    }
   ],
   "source": [
    "df.head(5)"
   ]
  },
  {
   "cell_type": "code",
   "execution_count": 14,
   "metadata": {},
   "outputs": [
    {
     "name": "stderr",
     "output_type": "stream",
     "text": [
      "/Users/juhyunlee/miniconda3/envs/MLvenv/lib/python3.8/site-packages/sklearn/utils/deprecation.py:87: FutureWarning: Function get_feature_names is deprecated; get_feature_names is deprecated in 1.0 and will be removed in 1.2. Please use get_feature_names_out instead.\n",
      "  warnings.warn(msg, category=FutureWarning)\n"
     ]
    }
   ],
   "source": [
    "def get_cluster_details(cluster_model, cluster_data, feature_names,\n",
    "                       cluster_num, top_n_features=10):\n",
    "    cluster_details = {}\n",
    "    center_feature_idx = cluster_model.cluster_centers_.argsort()[:,::-1]\n",
    "    \n",
    "    for cluster_num in range(cluster_num):\n",
    "        cluster_details[cluster_num] = {}\n",
    "        cluster_details[cluster_num]['cluster'] = cluster_num\n",
    "        \n",
    "        top_ftr_idx = center_feature_idx[cluster_num, :top_n_features]\n",
    "        top_ftr = [feature_names[idx] for idx in top_ftr_idx]\n",
    "        top_ftr_val = cluster_model.cluster_centers_[cluster_num, top_ftr_idx].tolist()\n",
    "        \n",
    "        cluster_details[cluster_num]['top_features'] = top_ftr\n",
    "        cluster_details[cluster_num]['top_featrues_value'] = top_ftr_val\n",
    "        filenames = cluster_data[cluster_data['labels']==cluster_num]['tag']\n",
    "        filenames = filenames.values.tolist()\n",
    "        cluster_details[cluster_num]['filenames'] = filenames\n",
    "    \n",
    "    return cluster_details\n",
    "feature_names = vectorizer.get_feature_names()\n",
    "details = get_cluster_details(cluster_model=kmeans, cluster_data=df, feature_names=feature_names, cluster_num=n_clusters)"
   ]
  },
  {
   "cell_type": "code",
   "execution_count": 15,
   "metadata": {},
   "outputs": [
    {
     "data": {
      "text/plain": [
       "10"
      ]
     },
     "execution_count": 15,
     "metadata": {},
     "output_type": "execute_result"
    }
   ],
   "source": [
    "len(details)"
   ]
  },
  {
   "cell_type": "code",
   "execution_count": 16,
   "metadata": {},
   "outputs": [
    {
     "name": "stdout",
     "output_type": "stream",
     "text": [
      "0 ['힙합', '인디', '알앤비', '기분전환', '감성', '드라이브', '발라드', '매장음악', '소울', '휴식']\n",
      "1 ['댄스', '드라이브', '신나는', '운동', '아이돌', '기분전환', '스트레스', '여행', '여름', '걸그룹']\n",
      "2 ['힙합', '발라드', '알앤비', '기분전환', '소울', '새벽', '드라이브', '스트레스', '감성', '인디']\n",
      "3 ['잔잔한', '새벽', '감성', '인디', '카페', '휴식', '발라드', '가을', '이별', '힐링']\n",
      "4 ['기분전환', '스트레스', '드라이브', '휴식', '여름', '매장음악', '사랑', '새벽', '까페', '운동']\n",
      "5 ['힐링', '휴식', '기분전환', '잔잔한', '새벽', '까페', '설렘', '사랑', '발라드', '산책']\n",
      "6 ['인디', '잔잔한', '가요', '새벽', '사랑', '기분전환', '감성', '겨울', '인디음악', '가을']\n",
      "7 ['설렘', '사랑', '기분전환', '달달', '까페', '연애', '휴식', '인디', '힐링', '고백']\n",
      "8 ['회상', '추억', '슬픔', '이별', '새벽', '발라드', '사랑', '잔잔한', '힐링', '휴식']\n",
      "9 ['발라드', '인디', '댄스', '사랑', '잔잔한', '가요', '감성', '새벽', '기분전환', '매장음악']\n"
     ]
    }
   ],
   "source": [
    "for key, value in details.items():\n",
    "    print(key, value['top_features'])"
   ]
  },
  {
   "cell_type": "code",
   "execution_count": 11,
   "metadata": {},
   "outputs": [
    {
     "name": "stdout",
     "output_type": "stream",
     "text": [
      "346\n",
      "9678\n",
      "4530\n",
      "1056\n",
      "935\n",
      "4950\n",
      "1777\n",
      "1676\n",
      "1133\n",
      "5977\n",
      "1106\n",
      "685\n",
      "2479\n",
      "787\n",
      "1024\n",
      "925\n",
      "25620\n",
      "7996\n",
      "776\n",
      "803\n"
     ]
    }
   ],
   "source": [
    "for i in range(0, 20):\n",
    "    print(len(df[df['labels'] == i]))"
   ]
  }
 ],
 "metadata": {
  "interpreter": {
   "hash": "7dd23b84e5370f0c038a7334c8674d5b52828e0bdc7ce9fda2e022d50c3c3919"
  },
  "kernelspec": {
   "display_name": "Python 3.9.10 ('ML': venv)",
   "language": "python",
   "name": "python3"
  },
  "language_info": {
   "codemirror_mode": {
    "name": "ipython",
    "version": 3
   },
   "file_extension": ".py",
   "mimetype": "text/x-python",
   "name": "python",
   "nbconvert_exporter": "python",
   "pygments_lexer": "ipython3",
   "version": "3.8.13"
  },
  "orig_nbformat": 4
 },
 "nbformat": 4,
 "nbformat_minor": 2
}
