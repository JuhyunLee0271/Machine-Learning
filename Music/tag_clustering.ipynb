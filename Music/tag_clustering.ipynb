{
 "cells": [
  {
   "cell_type": "code",
   "execution_count": 1,
   "metadata": {},
   "outputs": [],
   "source": [
    "import json\n",
    "import pandas as pd\n",
    "from sklearn.feature_extraction.text import TfidfVectorizer\n",
    "from sklearn.preprocessing import normalize\n",
    "from sklearn.cluster import KMeans"
   ]
  },
  {
   "cell_type": "code",
   "execution_count": 2,
   "metadata": {},
   "outputs": [],
   "source": [
    "with open('./processed_song.json', 'r', encoding='UTF8') as f:\n",
    "    data = json.load(f)\n",
    "df = pd.json_normalize(data)"
   ]
  },
  {
   "cell_type": "code",
   "execution_count": 4,
   "metadata": {},
   "outputs": [],
   "source": [
    "content = df['tags'].tolist()"
   ]
  },
  {
   "cell_type": "code",
   "execution_count": 9,
   "metadata": {},
   "outputs": [],
   "source": [
    "n_clusters = 10\n",
    "vectorizer = TfidfVectorizer()\n",
    "X = vectorizer.fit_transform(content)\n",
    "\n",
    "kmeans = KMeans(n_clusters=n_clusters).fit(X)\n",
    "\n",
    "labels = kmeans.labels_\n",
    "centers = kmeans.cluster_centers_\n",
    "df['labels'] = labels"
   ]
  },
  {
   "cell_type": "code",
   "execution_count": 14,
   "metadata": {},
   "outputs": [],
   "source": [
    "def get_cluster_details(cluster_model, cluster_data, feature_names,\n",
    "                       cluster_num, top_n_features=10):\n",
    "    cluster_details = {}\n",
    "    center_feature_idx = cluster_model.cluster_centers_.argsort()[:,::-1]\n",
    "    \n",
    "    for cluster_num in range(cluster_num):\n",
    "        cluster_details[cluster_num] = {}\n",
    "        cluster_details[cluster_num]['cluster'] = cluster_num\n",
    "        \n",
    "        top_ftr_idx = center_feature_idx[cluster_num, :top_n_features]\n",
    "        top_ftr = [feature_names[idx] for idx in top_ftr_idx]\n",
    "        top_ftr_val = cluster_model.cluster_centers_[cluster_num, top_ftr_idx].tolist()\n",
    "        \n",
    "        cluster_details[cluster_num]['top_features'] = top_ftr\n",
    "        cluster_details[cluster_num]['top_featrues_value'] = top_ftr_val\n",
    "        filenames = cluster_data[cluster_data['labels']==cluster_num]['tags']\n",
    "        filenames = filenames.values.tolist()\n",
    "        cluster_details[cluster_num]['filenames'] = filenames\n",
    "    \n",
    "    return cluster_details\n",
    "feature_names = vectorizer.get_feature_names_out()\n",
    "details = get_cluster_details(cluster_model=kmeans, cluster_data=df, feature_names=feature_names, cluster_num=n_clusters)"
   ]
  },
  {
   "cell_type": "code",
   "execution_count": 16,
   "metadata": {},
   "outputs": [
    {
     "name": "stdout",
     "output_type": "stream",
     "text": [
      "0 ['감성', '기분전환', '인디', '발라드', '드라이브', '휴식', '카페', '힙합', '겨울', '아이돌']\n",
      "1 ['회상', '추억', '이별', '슬픔', '발라드', '새벽', '감성', '힐링', '잔잔한', '사랑']\n",
      "2 ['운동', '댄스', '아이돌', '스트레스', '드라이브', '기분전환', '신나는', 'kpop', '걸그룹', '케이팝']\n",
      "3 ['설렘', '사랑', '달달', '연애', '고백', '데이트', '달달한', '두근두근', '벚꽃', '카페']\n",
      "4 ['시원한', '여름', '청량한', '더위', '신나는', '여행', '트로피컬', '드라이브', '기분전환', '댄스']\n",
      "5 ['어쿠스틱', '인디', '감성', '카페', '가을', '잔잔한', '휴식', '기타', '사랑', 'boywithluv']\n",
      "6 ['새벽', '잔잔한', '감성', '휴식', '힐링', '인디', '카페', '새벽감성', '위로', '발라드']\n",
      "7 ['설렘', '사랑', '힐링', '휴식', '까페', '기분전환', '새벽', '잔잔한', '인디', '여행']\n",
      "8 ['이별', '슬픔', '발라드', '감성', '새벽', '비오는날', '눈물', '사랑', '외로움', '잔잔한']\n",
      "9 ['알앤비', '힙합', '감성힙합', '소울', 'rnb', '감성', '드라이브', '새벽', '그루브', '트렌디']\n"
     ]
    }
   ],
   "source": [
    "for key, value in details.items():\n",
    "    print(key, value['top_features'])"
   ]
  },
  {
   "cell_type": "code",
   "execution_count": 18,
   "metadata": {},
   "outputs": [
    {
     "name": "stdout",
     "output_type": "stream",
     "text": [
      "Cluster 0: 7765\n",
      "Cluster 1: 1906\n",
      "Cluster 2: 1759\n",
      "Cluster 3: 1776\n",
      "Cluster 4: 455\n",
      "Cluster 5: 867\n",
      "Cluster 6: 2464\n",
      "Cluster 7: 1475\n",
      "Cluster 8: 1917\n",
      "Cluster 9: 1587\n"
     ]
    }
   ],
   "source": [
    "for i in range(0, 10):\n",
    "    print(F\"Cluster {i}: {len(df[df['labels'] == i])}\")"
   ]
  }
 ],
 "metadata": {
  "interpreter": {
   "hash": "7dd23b84e5370f0c038a7334c8674d5b52828e0bdc7ce9fda2e022d50c3c3919"
  },
  "kernelspec": {
   "display_name": "Python 3.9.10 ('ML': venv)",
   "language": "python",
   "name": "python3"
  },
  "language_info": {
   "codemirror_mode": {
    "name": "ipython",
    "version": 3
   },
   "file_extension": ".py",
   "mimetype": "text/x-python",
   "name": "python",
   "nbconvert_exporter": "python",
   "pygments_lexer": "ipython3",
   "version": "3.8.13"
  },
  "orig_nbformat": 4
 },
 "nbformat": 4,
 "nbformat_minor": 2
}
