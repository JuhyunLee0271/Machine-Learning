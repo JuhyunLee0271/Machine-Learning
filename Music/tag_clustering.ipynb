{
 "cells": [
  {
   "cell_type": "code",
   "execution_count": 2,
   "metadata": {},
   "outputs": [],
   "source": [
    "import json\n",
    "import pandas as pd\n",
    "from sklearn.feature_extraction.text import TfidfVectorizer\n",
    "from sklearn.preprocessing import normalize\n",
    "from sklearn.cluster import KMeans\n",
    "import matplotlib.pyplot as plt"
   ]
  },
  {
   "cell_type": "code",
   "execution_count": 3,
   "metadata": {},
   "outputs": [],
   "source": [
    "with open('./processed_song.json', 'r', encoding='UTF8') as f:\n",
    "    data = json.load(f)\n",
    "df = pd.json_normalize(data)"
   ]
  },
  {
   "cell_type": "code",
   "execution_count": 4,
   "metadata": {},
   "outputs": [
    {
     "data": {
      "text/html": [
       "<div>\n",
       "<style scoped>\n",
       "    .dataframe tbody tr th:only-of-type {\n",
       "        vertical-align: middle;\n",
       "    }\n",
       "\n",
       "    .dataframe tbody tr th {\n",
       "        vertical-align: top;\n",
       "    }\n",
       "\n",
       "    .dataframe thead th {\n",
       "        text-align: right;\n",
       "    }\n",
       "</style>\n",
       "<table border=\"1\" class=\"dataframe\">\n",
       "  <thead>\n",
       "    <tr style=\"text-align: right;\">\n",
       "      <th></th>\n",
       "      <th>id</th>\n",
       "      <th>song_name</th>\n",
       "      <th>artist_name_basket</th>\n",
       "      <th>tags</th>\n",
       "      <th>count</th>\n",
       "    </tr>\n",
       "  </thead>\n",
       "  <tbody>\n",
       "    <tr>\n",
       "      <th>0</th>\n",
       "      <td>144663</td>\n",
       "      <td>밤편지</td>\n",
       "      <td>[아이유]</td>\n",
       "      <td>[감성, 발라드, 새벽, 밤, 인디, 비오는날, 슬픔, 새벽감성, 여름밤, 감성발라...</td>\n",
       "      <td>2175</td>\n",
       "    </tr>\n",
       "    <tr>\n",
       "      <th>1</th>\n",
       "      <td>116573</td>\n",
       "      <td>안아줘</td>\n",
       "      <td>[정준일]</td>\n",
       "      <td>[발라드, 이별, 새벽, 감성, 밤, 슬픔, 힐링, 기분전환, 가을, 카페, 비오는...</td>\n",
       "      <td>2121</td>\n",
       "    </tr>\n",
       "    <tr>\n",
       "      <th>2</th>\n",
       "      <td>357367</td>\n",
       "      <td>비</td>\n",
       "      <td>[폴킴]</td>\n",
       "      <td>[감성, 발라드, 비오는날, 이별, 새벽, 사랑, 비, 휴식, 밤, 힐링, 센치, ...</td>\n",
       "      <td>1981</td>\n",
       "    </tr>\n",
       "    <tr>\n",
       "      <th>3</th>\n",
       "      <td>366786</td>\n",
       "      <td>가끔 미치도록 네가 안고 싶어질 때가 있어</td>\n",
       "      <td>[가을방학]</td>\n",
       "      <td>[새벽, 인디, 밤, 감성, 발라드, 힐링, 추억, 기분전환, 카페, 비오는날, 인...</td>\n",
       "      <td>1919</td>\n",
       "    </tr>\n",
       "    <tr>\n",
       "      <th>4</th>\n",
       "      <td>133143</td>\n",
       "      <td>그대와 나, 설레임 (Feat. 소울맨)</td>\n",
       "      <td>[어쿠스틱 콜라보]</td>\n",
       "      <td>[기분전환, 힐링, 카페, 발라드, 감성, 새벽, 밤, 기분좋은, 인디음악, 설레임...</td>\n",
       "      <td>1633</td>\n",
       "    </tr>\n",
       "    <tr>\n",
       "      <th>...</th>\n",
       "      <td>...</td>\n",
       "      <td>...</td>\n",
       "      <td>...</td>\n",
       "      <td>...</td>\n",
       "      <td>...</td>\n",
       "    </tr>\n",
       "    <tr>\n",
       "      <th>74254</th>\n",
       "      <td>269143</td>\n",
       "      <td>별이 되어줘</td>\n",
       "      <td>[네미시스]</td>\n",
       "      <td>[밴드, 새벽, 잔잔한, 몽환적, 한국, 얼터너티브, 인디]</td>\n",
       "      <td>1</td>\n",
       "    </tr>\n",
       "    <tr>\n",
       "      <th>74255</th>\n",
       "      <td>414795</td>\n",
       "      <td>Till The Night There</td>\n",
       "      <td>[안다영]</td>\n",
       "      <td>[잔잔한, 밤, 새벽]</td>\n",
       "      <td>1</td>\n",
       "    </tr>\n",
       "    <tr>\n",
       "      <th>74256</th>\n",
       "      <td>262640</td>\n",
       "      <td>이별을 말하다</td>\n",
       "      <td>[남영우]</td>\n",
       "      <td>[노래, 신곡, 1월]</td>\n",
       "      <td>1</td>\n",
       "    </tr>\n",
       "    <tr>\n",
       "      <th>74257</th>\n",
       "      <td>268471</td>\n",
       "      <td>그래서</td>\n",
       "      <td>[리마크]</td>\n",
       "      <td>[발라드]</td>\n",
       "      <td>1</td>\n",
       "    </tr>\n",
       "    <tr>\n",
       "      <th>74258</th>\n",
       "      <td>258788</td>\n",
       "      <td>Never Q.U.I.T.T.</td>\n",
       "      <td>[The Quiett]</td>\n",
       "      <td>[힙합, 랩]</td>\n",
       "      <td>1</td>\n",
       "    </tr>\n",
       "  </tbody>\n",
       "</table>\n",
       "<p>74259 rows × 5 columns</p>\n",
       "</div>"
      ],
      "text/plain": [
       "           id                song_name artist_name_basket  \\\n",
       "0      144663                      밤편지              [아이유]   \n",
       "1      116573                      안아줘              [정준일]   \n",
       "2      357367                        비               [폴킴]   \n",
       "3      366786  가끔 미치도록 네가 안고 싶어질 때가 있어             [가을방학]   \n",
       "4      133143   그대와 나, 설레임 (Feat. 소울맨)         [어쿠스틱 콜라보]   \n",
       "...       ...                      ...                ...   \n",
       "74254  269143                   별이 되어줘             [네미시스]   \n",
       "74255  414795     Till The Night There              [안다영]   \n",
       "74256  262640                  이별을 말하다              [남영우]   \n",
       "74257  268471                      그래서              [리마크]   \n",
       "74258  258788         Never Q.U.I.T.T.       [The Quiett]   \n",
       "\n",
       "                                                    tags  count  \n",
       "0      [감성, 발라드, 새벽, 밤, 인디, 비오는날, 슬픔, 새벽감성, 여름밤, 감성발라...   2175  \n",
       "1      [발라드, 이별, 새벽, 감성, 밤, 슬픔, 힐링, 기분전환, 가을, 카페, 비오는...   2121  \n",
       "2      [감성, 발라드, 비오는날, 이별, 새벽, 사랑, 비, 휴식, 밤, 힐링, 센치, ...   1981  \n",
       "3      [새벽, 인디, 밤, 감성, 발라드, 힐링, 추억, 기분전환, 카페, 비오는날, 인...   1919  \n",
       "4      [기분전환, 힐링, 카페, 발라드, 감성, 새벽, 밤, 기분좋은, 인디음악, 설레임...   1633  \n",
       "...                                                  ...    ...  \n",
       "74254                  [밴드, 새벽, 잔잔한, 몽환적, 한국, 얼터너티브, 인디]      1  \n",
       "74255                                       [잔잔한, 밤, 새벽]      1  \n",
       "74256                                       [노래, 신곡, 1월]      1  \n",
       "74257                                              [발라드]      1  \n",
       "74258                                            [힙합, 랩]      1  \n",
       "\n",
       "[74259 rows x 5 columns]"
      ]
     },
     "execution_count": 4,
     "metadata": {},
     "output_type": "execute_result"
    }
   ],
   "source": [
    "df = df[df['count'] > 0]\n",
    "df"
   ]
  },
  {
   "cell_type": "code",
   "execution_count": 5,
   "metadata": {},
   "outputs": [],
   "source": [
    "# 태그들의 리스트, K-means clustering을 위한 input 값\n",
    "content = []\n",
    "for idx, row in df.iterrows():\n",
    "    content.append(' '.join(row.tags))"
   ]
  },
  {
   "cell_type": "code",
   "execution_count": 6,
   "metadata": {},
   "outputs": [
    {
     "data": {
      "text/plain": [
       "74259"
      ]
     },
     "execution_count": 6,
     "metadata": {},
     "output_type": "execute_result"
    }
   ],
   "source": [
    "len(content)"
   ]
  },
  {
   "cell_type": "code",
   "execution_count": 7,
   "metadata": {},
   "outputs": [
    {
     "name": "stdout",
     "output_type": "stream",
     "text": [
      "1\n",
      "2\n",
      "3\n",
      "4\n",
      "5\n",
      "6\n",
      "7\n",
      "8\n",
      "9\n",
      "10\n",
      "11\n",
      "12\n",
      "13\n",
      "14\n",
      "15\n",
      "16\n",
      "17\n",
      "18\n",
      "19\n",
      "20\n",
      "21\n",
      "22\n",
      "23\n",
      "24\n",
      "25\n",
      "26\n",
      "27\n",
      "28\n",
      "29\n",
      "30\n",
      "31\n",
      "32\n",
      "33\n",
      "34\n",
      "35\n",
      "36\n",
      "37\n",
      "38\n",
      "39\n",
      "40\n",
      "41\n",
      "42\n",
      "43\n",
      "44\n",
      "45\n",
      "46\n",
      "47\n",
      "48\n",
      "49\n"
     ]
    },
    {
     "data": {
      "image/png": "[encoded data removed]",
      "text/plain": [
       "<Figure size 432x288 with 1 Axes>"
      ]
     },
     "metadata": {
      "needs_background": "light"
     },
     "output_type": "display_data"
    }
   ],
   "source": [
    "# Elbow Method for selecting optimal K\n",
    "vectorizer = TfidfVectorizer()\n",
    "X = vectorizer.fit_transform(content)\n",
    "\n",
    "inertia = []\n",
    "for i in range(1, 50):\n",
    "    kmeans_plus = KMeans(n_clusters=i, init='k-means++')\n",
    "    kmeans_plus.fit(X)\n",
    "    inertia.append(kmeans_plus.inertia_)\n",
    "    print(i)\n",
    "\n",
    "plt.plot(range(1, 50), inertia, marker='o')\n",
    "plt.xlabel('Number of clusters')\n",
    "plt.ylabel('Intertia')\n",
    "plt.show()"
   ]
  },
  {
   "cell_type": "code",
   "execution_count": null,
   "metadata": {},
   "outputs": [],
   "source": [
    "# Silhouette Method for selecting optimal k\n",
    "from sklearn.metrics import silhouette_samples\n",
    "import numpy as np\n",
    "vectorizer = TfidfVectorizer()\n",
    "X = vectorizer.fit_transform(content)\n",
    "\n",
    "silhouette_vals = []\n",
    "for i in range(1, 200):\n",
    "    kmeans_plus = KMeans(n_clusters=i, init='k-means++')\n",
    "    pred = kmeans_plus.fit_predict(X)\n",
    "    silhouette_vals.append(np.mean(silhouette_samples(X, pred, metric='euclidean')))\n",
    "\n",
    "plt.plot(range(1, 200), silhouette_vals, marker='o')\n",
    "plt.xlabel('Number of clusters')\n",
    "plt.ylabel('Silhouette')\n",
    "plt.show()"
   ]
  },
  {
   "cell_type": "code",
   "execution_count": 22,
   "metadata": {},
   "outputs": [],
   "source": [
    "n_clusters = 30\n",
    "vectorizer = TfidfVectorizer()\n",
    "X = vectorizer.fit_transform(content)\n",
    "\n",
    "kmeans = KMeans(n_clusters=n_clusters).fit(X)\n",
    "\n",
    "labels = kmeans.labels_\n",
    "centers = kmeans.cluster_centers_\n",
    "df['labels'] = labels"
   ]
  },
  {
   "cell_type": "code",
   "execution_count": null,
   "metadata": {},
   "outputs": [],
   "source": [
    "df"
   ]
  }
 ],
 "metadata": {
  "interpreter": {
   "hash": "7dd23b84e5370f0c038a7334c8674d5b52828e0bdc7ce9fda2e022d50c3c3919"
  },
  "kernelspec": {
   "display_name": "Python 3.9.10 ('ML': venv)",
   "language": "python",
   "name": "python3"
  },
  "language_info": {
   "codemirror_mode": {
    "name": "ipython",
    "version": 3
   },
   "file_extension": ".py",
   "mimetype": "text/x-python",
   "name": "python",
   "nbconvert_exporter": "python",
   "pygments_lexer": "ipython3",
   "version": "3.8.13"
  },
  "orig_nbformat": 4
 },
 "nbformat": 4,
 "nbformat_minor": 2
}
