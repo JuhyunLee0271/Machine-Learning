{
 "cells": [
  {
   "cell_type": "code",
   "execution_count": null,
   "metadata": {},
   "outputs": [],
   "source": [
    "import json\n",
    "import pandas as pd\n",
    "\n",
    "with open('./song_meta.json', 'r', encoding='UTF8') as f:\n",
    "    data = json.load(f)\n",
    "\n",
    "df = pd.json_normalize(data)"
   ]
  },
  {
   "cell_type": "code",
   "execution_count": null,
   "metadata": {},
   "outputs": [],
   "source": [
    "df"
   ]
  },
  {
   "cell_type": "code",
   "execution_count": null,
   "metadata": {},
   "outputs": [],
   "source": [
    "def cleaning_dataset(df):\n",
    "    # select genre\n",
    "    # 발라드, 댄스, 랩힙합, R&B, 인디, 아이돌\n",
    "    genre_list = ['GN0100','GN0200','GN0300','GN0400','GN0500','GN2500']\n",
    "    filter = df.song_gn_gnr_basket.apply(lambda x: any(genre for genre in genre_list if genre in x))\n",
    "    df = df[filter]\n",
    "    \n",
    "    # except genre\n",
    "    except_genre_list = ['GN600', 'GN700', 'GN800', 'GN900', 'GN1000', 'GN1100', 'GN1200', 'GN1300', 'GN1400', \n",
    "                         'GN1600', 'GN1700', 'GN1800', 'GN1900', 'GN2000', 'GN2100', 'GN2200', 'GN2300', 'GN2400', \n",
    "                         'GN2600', 'GN2700', 'GN2800', 'GN2900', 'GN3000']\n",
    "\n",
    "    filter = df.song_gn_gnr_basket.apply(lambda x: any(genre for genre in except_genre_list if genre in x))\n",
    "    df = df[~filter]\n",
    "\n",
    "    # except outdated music (target_date: 2000.01.01)\n",
    "    target_date = '20000101'\n",
    "    df = df[df['issue_date'] > target_date]\n",
    "\n",
    "    # except other outliers\n",
    "    filter = df.artist_name_basket.apply(lambda x: 'Various Artists' not in x)\n",
    "    df = df[filter]\n",
    "    df = df[~df['album_name'].str.contains('70|80|추억의|베스트|Live|모음|컬렉션', na=False)]\n",
    "\n",
    "    df.reset_index(drop=True, inplace=True)\n",
    "    return df\n",
    "\n",
    "new_df = cleaning_dataset(df)"
   ]
  },
  {
   "cell_type": "code",
   "execution_count": null,
   "metadata": {},
   "outputs": [],
   "source": [
    "new_df.sample(10)"
   ]
  }
 ],
 "metadata": {
  "language_info": {
   "name": "python"
  },
  "orig_nbformat": 4
 },
 "nbformat": 4,
 "nbformat_minor": 2
}
