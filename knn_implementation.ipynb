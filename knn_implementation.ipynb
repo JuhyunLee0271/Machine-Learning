{
  "cells": [
    {
      "cell_type": "markdown",
      "metadata": {
        "id": "TS1Yus4opatH"
      },
      "source": [
        "# 기계학습 중간고사 대체 레포트\n",
        "\n",
        "\n",
        "**문제안내**\n",
        " - 본 레포트는 1) 기대수명 예측문제 2) 숫자이미지 예측문제 두 가지 문제를 회귀와 분류로 각각 풀어보는데 목적이 있습니다. 1)기대수명 예측문제는 회기로 풀어야 할 문제로 보이나 분류로도 풀 수 있습니다. 반대로 2) 숫자이미지 예측문제도 분류문제로 보이나 회기 문제로 풀 수 있습니다. 2가지 문제를 회기와 분류 2가지 방법으로 풀어보고, 회기와 분류가 어떤 역할을 하고 어떤 문제에 적용해야 하는지에 대해 이해하면 좋겠습니다. 아래 안내를 참조해서 각 문제를 코딩하고 결과를 실험정리/분석 문서에 작성해서 제출해 주세요.\n",
        "\n",
        "**풀어야 할 문제**\n",
        " 1. 기대수명 예측하기 (회기/분류)\n",
        " 2. 숫자이미지 예측하기 (회기/분류) \n",
        "\n",
        "**제출해야 할 것**: 소스코드 (ipynb파일) + 실험정리/분석 문서 (pdf)\n",
        "\n",
        "**제출마감일**: 4월 29일 오후 5시\n",
        "\n",
        "**제출포맷**\n",
        " 1. 소스코드: ipynb 파일로 제출. 컴파일한 결과가 출력된 상태로 제출해야 합니다. 중간 결과가 출력되도록 코드를 작성하는 것을 추천합니다.\n",
        " 2. 실험정리/분석 문서: pdf 파일로 제출. 실험결과는 테이블 형태로 정리해야 하며 분석은 줄글로 작성 가능합니다. \n",
        "\n",
        "**소스코드**\n",
        "- 소스코드는 주석이 있는 것이 좋으며, 중간중간 결과를 출력해 보는 것을 추천합니다. [문제1]~[문제5] 부분에 여러분들이 직접 코딩을 한 후 ipynb 파일을 제출하면 됩니다.\n",
        "\n",
        "**실험정리/분석 문서**\n",
        "1. [문제1]~[문제5]의 결과를 테이블 하나에 정리하세요. 배점 10점\n",
        "2. [문제1]~[문제4]를 분석하세요. 회기(linear regression)이 분류(knn)에 비해 1)기대수명 예측 2)숫자이미지 예측 중 어떤 문제를 더 잘푸는지 분석하고, 왜 더 잘푸는지 설명하세요. 또한 분류(knn)이 회기(linear regression)에 비해 어떤 문제를 더 잘푸는지 분석하고, 그 이유를 설명하세요. 배점 20점 \n",
        "\n",
        "\n"
      ]
    },
    {
      "cell_type": "markdown",
      "metadata": {
        "id": "SlWPs9zL5U_t"
      },
      "source": [
        "# 수명데이터 예측하기 "
      ]
    },
    {
      "cell_type": "markdown",
      "metadata": {
        "id": "D_ZqtpIk8dOh"
      },
      "source": [
        "data load"
      ]
    },
    {
      "cell_type": "code",
      "execution_count": 4,
      "metadata": {
        "id": "TUen9i2D5VPC"
      },
      "outputs": [],
      "source": [
        "import pandas as pd\n",
        "\n",
        "data_loc = 'https://github.com/dknife/ML/raw/main/data/'\n",
        "life = pd.read_csv(data_loc + 'life_expectancy.csv')\n",
        "life.dropna(inplace = True)\n",
        "\n",
        "X = life[['Alcohol', 'Percentage expenditure', 'Polio',\n",
        "         'BMI', 'GDP', 'Thinness 1-19 years']]\n",
        "y = life['Life expectancy']"
      ]
    },
    {
      "cell_type": "markdown",
      "metadata": {
        "id": "jkj8eZGe8fYG"
      },
      "source": [
        "학습데이터 테스트데이터 나누기"
      ]
    },
    {
      "cell_type": "code",
      "execution_count": 5,
      "metadata": {
        "id": "iA-n0ijb8RZT"
      },
      "outputs": [],
      "source": [
        "from sklearn.model_selection import train_test_split\n",
        "X_train, X_test, y_train, y_test = train_test_split(X, y, test_size=0.2)"
      ]
    },
    {
      "cell_type": "markdown",
      "metadata": {
        "id": "vPLNx2dv8apL"
      },
      "source": [
        "[문제1] 회기로(linear_regression) 수명 예측하기. 배점 10점"
      ]
    },
    {
      "cell_type": "code",
      "execution_count": 33,
      "metadata": {
        "id": "qbMad6ka8Gxq"
      },
      "outputs": [],
      "source": [
        "### [code] sklearn의 LinearRegression함수로 X_train을 학습하고 X_test의 수명을 예측하는 코드 만들기\n",
        "from sklearn.linear_model import LinearRegression\n",
        "\n",
        "# X_train으로 학습\n",
        "model = LinearRegression()\n",
        "model.fit(X_train, y_train)\n",
        "\n",
        "# X_test에 대해 predict한 값 = y_test_hat\n",
        "y_test_hat = model.predict(X_test)"
      ]
    },
    {
      "cell_type": "code",
      "execution_count": 4,
      "metadata": {
        "id": "DoaTnukV87-R"
      },
      "outputs": [
        {
          "data": {
            "text/plain": [
              "43.18840066091893"
            ]
          },
          "execution_count": 4,
          "metadata": {},
          "output_type": "execute_result"
        }
      ],
      "source": [
        "### [code] 예측한 X_test의 수명과 정답 y_test를 비교하여 mean square error 구하기\n",
        "from sklearn.metrics import mean_squared_error\n",
        "\n",
        "# 예측한 X_test의 수명 = y_test_hat, 정답 = y_test를 비교해 mse를 구한다.\n",
        "mse = mean_squared_error(y_test_hat, y_test)\n",
        "mse"
      ]
    },
    {
      "cell_type": "markdown",
      "metadata": {
        "id": "6UQdiyl29NCx"
      },
      "source": [
        "[문제2] 분류로(knn) 수명 예측하기. 배점 15점\n",
        "\n",
        "sklearn의 knn함수는 default 하이퍼파라미터를 사용해야 합니다. 즉, 학습데이터와 레이블 이외에 하이퍼파라미터는 직접설정하지 말고 기본 값을 사용하도록 하세요."
      ]
    },
    {
      "cell_type": "code",
      "execution_count": 31,
      "metadata": {
        "id": "2S_iELyA9Zq0"
      },
      "outputs": [],
      "source": [
        "### [code] sklearn의 knn함수로 X_train을 학습하고 X_test의 수명을 예측하는 코드 만들기\n",
        "### knn을 학습하기 위해서 y_train를 반올림하여 정수형태로 type-casting해야 함. 즉 기대수명을 소수점이 있는 81.72세가 아니라 반올림한 정수 82세로 바꿔야 함. 따라서 1세 단위로 class가 구분되는 것임. \n",
        "from sklearn.neighbors import KNeighborsClassifier\n",
        "\n",
        "model = KNeighborsClassifier()\n",
        "\n",
        "# X_train과 y_train 데이터를 numpy로 변경하고 y_train 데이터는 labels의 역할을 해야 하므로 반올림하여 정수로 바꾼다.\n",
        "X_train_ = X_train.to_numpy()\n",
        "y_train_ = y_train.apply(lambda x:round(x)).to_numpy()\n",
        "\n",
        "X_test_ = X_test.to_numpy()\n",
        "y_test_ = y_test.apply(lambda x:round(x)).to_numpy()\n",
        "\n",
        "# train and predict\n",
        "model.fit(X_train_, y_train_)\n",
        "y_test_hat_ = model.predict(X_test_)"
      ]
    },
    {
      "cell_type": "code",
      "execution_count": 6,
      "metadata": {
        "id": "f3ZcwoQr9ksG"
      },
      "outputs": [
        {
          "name": "stdout",
          "output_type": "stream",
          "text": [
            "KNN MSE with k = 1: 61.42727272727273\n",
            "KNN MSE with k = 3: 102.7060606060606\n",
            "KNN MSE with k = 5: 105.24242424242425\n"
          ]
        }
      ],
      "source": [
        "### [code] 예측한 X_test의 수명과 정답 y_test를 비교하여 mean square error 구하기\n",
        "### k=1,3,5 일 때 각각의 accuracy성능을 구해야 함\n",
        "\n",
        "for k in [1, 3, 5]:\n",
        "    # Knn classifier with parameter k\n",
        "    model = KNeighborsClassifier(n_neighbors=k)\n",
        "    \n",
        "    # train\n",
        "    model.fit(X_train_, y_train_)\n",
        "    \n",
        "    # predict\n",
        "    y_test_hat_ = model.predict(X_test_)\n",
        "    \n",
        "    # mse\n",
        "    mse = mean_squared_error(y_test_hat_, y_test_)\n",
        "    print(F\"KNN MSE with k = {k}: {mse}\")"
      ]
    },
    {
      "cell_type": "markdown",
      "metadata": {
        "id": "DY0pyB9j76i7"
      },
      "source": [
        "#MNIST 숫자 이미지 예측하기"
      ]
    },
    {
      "cell_type": "markdown",
      "metadata": {
        "id": "aVeQLxgDv6q0"
      },
      "source": [
        " MNIST dataset load"
      ]
    },
    {
      "cell_type": "code",
      "execution_count": 7,
      "metadata": {
        "id": "AC6MV1H5cx8e"
      },
      "outputs": [],
      "source": [
        "from sklearn.datasets import fetch_openml\n",
        "from sklearn.model_selection import train_test_split\n",
        "mnist = fetch_openml('mnist_784', cache=False)\n",
        "X = mnist.data.astype('float32')\n",
        "y = mnist.target.astype('int64')\n",
        "X /= 255.0"
      ]
    },
    {
      "cell_type": "markdown",
      "metadata": {
        "id": "2SGSd-Zd73nZ"
      },
      "source": [
        "데이터 확인하기"
      ]
    },
    {
      "cell_type": "code",
      "execution_count": 26,
      "metadata": {
        "colab": {
          "base_uri": "https://localhost:8080/",
          "height": 108
        },
        "id": "3LkTyg0a03Uh",
        "outputId": "1de97053-3047-4d2a-897c-e872346f8062"
      },
      "outputs": [
        {
          "data": {
            "image/png": "[encoded data removed]",
            "text/plain": [
              "<Figure size 432x288 with 5 Axes>"
            ]
          },
          "metadata": {},
          "output_type": "display_data"
        }
      ],
      "source": [
        "import matplotlib.pyplot as plt\n",
        "def plot_example(X, y):\n",
        "    \"\"\"Plot the first 5 images and their labels in a row.\"\"\"\n",
        "    for i, (img, y) in enumerate(zip(X[:5].values.reshape(5, 28, 28), y[:5])):\n",
        "        plt.subplot(151 + i)\n",
        "        plt.imshow(img)\n",
        "        plt.xticks([])\n",
        "        plt.yticks([])\n",
        "        plt.title(y)\n",
        "plot_example(X, y)"
      ]
    },
    {
      "cell_type": "code",
      "execution_count": 27,
      "metadata": {
        "id": "QLCOPMNCw5bT"
      },
      "outputs": [],
      "source": [
        "from sklearn.model_selection import train_test_split\n",
        "X_train, X_test, y_train, y_test = train_test_split(X, y, test_size=0.2, random_state=0)"
      ]
    },
    {
      "cell_type": "markdown",
      "metadata": {
        "id": "xeE8r8D0pYDt"
      },
      "source": [
        "[문제3] 분류로(KNN) 숫자 분류하기. 배점 10점\n",
        "\n",
        "sklearn의 knn함수는 default 하이퍼파라미터를 사용해야 합니다. 즉, 학습데이터와 레이블 이외에 하이퍼파라미터는 직접설정하지 말고 기본 값을 사용하도록 하세요."
      ]
    },
    {
      "cell_type": "code",
      "execution_count": 28,
      "metadata": {
        "id": "oVHnskiIpXd-"
      },
      "outputs": [],
      "source": [
        "### [code] sklearn의 KNeighborsClassifier함수로 X_train을 학습하고 X_test의 레이블을 예측하는 코드 만들기\n",
        "model = KNeighborsClassifier()\n",
        "model.fit(X_train, y_train)\n",
        "y_test_hat = model.predict(X_test)"
      ]
    },
    {
      "cell_type": "code",
      "execution_count": 29,
      "metadata": {
        "id": "R-LJT_kR2Fo8"
      },
      "outputs": [
        {
          "name": "stdout",
          "output_type": "stream",
          "text": [
            "KNN accuracy with k = 1: 0.9703571428571428\n",
            "KNN accuracy with k = 3: 0.9717857142857143\n",
            "KNN accuracy with k = 5: 0.9693571428571428\n"
          ]
        }
      ],
      "source": [
        "### [code] 예측한 X_test 레이블의 accuracy(예측결과가 정답과 일치한 샘풀 숫자 / 전체 샘플 숫자) 구하기 (sklearn 이용가능)\n",
        "### k=1,3,5 일 때 각각의 accuracy성능을 구해야 함\n",
        "from sklearn.metrics import accuracy_score\n",
        "\n",
        "for k in [1, 3, 5]:\n",
        "    # Knn classifier with parameter k\n",
        "    model = KNeighborsClassifier(n_neighbors=k)\n",
        "    \n",
        "    # train\n",
        "    model.fit(X_train, y_train)\n",
        "    \n",
        "    # predict\n",
        "    y_test_hat = model.predict(X_test)\n",
        "    \n",
        "    # accuracy    \n",
        "    print(F\"KNN accuracy with k = {k}: {accuracy_score(y_test, y_test_hat)}\")"
      ]
    },
    {
      "cell_type": "markdown",
      "metadata": {
        "id": "EDZBMRXt2iJ6"
      },
      "source": [
        "[문제4] 회기로(linear_regression) 숫자 분류하기. 배점 15점"
      ]
    },
    {
      "cell_type": "code",
      "execution_count": 34,
      "metadata": {
        "id": "RMTfql9l2b-a"
      },
      "outputs": [],
      "source": [
        "### [code] sklearn의 LinearRegression함수로 X_train을 학습하고 X_test의 레이블을 예측하는 코드 만들기\n",
        "\n",
        "# Linear Regression \n",
        "model = LinearRegression()\n",
        "\n",
        "# train\n",
        "model.fit(X_train, y_train)\n",
        "\n",
        "y_test_hat = model.predict(X_test)"
      ]
    },
    {
      "cell_type": "code",
      "execution_count": 35,
      "metadata": {
        "id": "ELqs5GTr284h"
      },
      "outputs": [
        {
          "data": {
            "text/plain": [
              "0.22685714285714287"
            ]
          },
          "execution_count": 35,
          "metadata": {},
          "output_type": "execute_result"
        }
      ],
      "source": [
        "### [code] 예측한 X_test 레이블의 accuracy(예측결과가 정답과 일치한 샘풀 숫자 / 전체 샘플 숫자) 구하기 (sklearn 이용가능)\n",
        "### 이 때 예측결과는 반올림하여 정수로 type-casting해야 함\n",
        "import numpy as np\n",
        "\n",
        "# y_test_hat의 예측 결과 반올림\n",
        "y_test_hat = np.rint(y_test_hat)\n",
        "acc = accuracy_score(y_test, y_test_hat)\n",
        "acc"
      ]
    },
    {
      "cell_type": "markdown",
      "metadata": {
        "id": "1f5_7jXg3ZfI"
      },
      "source": [
        "[문제5] KNN 알고리즘 직접 구현하기. 배점 20점\n",
        "\n",
        "이미 sklearn등 수 많은 라이브러리에서 기계학습 알고리즘이 제공되고 있습니다. 이들 라이브러리에서 함수를 사용하는 것이 간편하기는 하지만, 언젠가는 우리도 직접 알고리즘을 구현해야 할 필요가 있을 겁니다. 그래서 KNN알고리즘을 여러분들이 직접 구현하고 위 2가지 문제들, 1)수명예측 2)숫자분류, 에 적용하여 성능을 구해 보세요. 여러분들이 구현한 KNN 함수와 sklearn의 함수의 성능이 동일한지 확인해 보세요. 아주 약간의 차이가 있는 것은 괜찮습니다. KNN알고리즘에는 몇가지 하이퍼 파라미터 들이 있습니다. 아래 주소에서 어떤 하이퍼 파라미터 들이 있는지 알 수 있는데요. 이 하이퍼파라미터를 어떻게 사용하는지에 따라 성능이 약간 차이가 있습니다. \n",
        "sklearn의 KNN 함수 설명: https://scikit-learn.org/stable/modules/generated/sklearn.neighbors.KNeighborsClassifier.html\n",
        "\n",
        "최대한 sklearn의 knn함수와 동일한 하이퍼파라미터를 이용해서 비슷한 성능이 나오도록 하세요. 5%이내의 성능차이까지는 인정하도록 하겠습니다. 즉 sklearn의 knn함수와 비교해서 여러분이 만든 함수의 성능이 5%이내로 안 좋은 것은 문제를 제대로 푼 것으로 하겠습니다. 예를 들어 sklearn의 knn함수는 accuracy가 0.8이라고 한다면 0.8의 95%인 0.76이상인 것은 정답으로 인정하겠습니다. sklearn의 knn함수보다 여러분의 knn함수가 성능이 더 좋은 것은 범위에 관계 없이 다 정답입니다.\n",
        "\n",
        "sklearn의 knn함수는 default 하이퍼파라미터를 사용해야 합니다. 즉, 학습데이터와 레이블 이외에 하이퍼파라미터는 직접설정하지 말고 기본 값을 사용하도록 하세요."
      ]
    },
    {
      "cell_type": "code",
      "execution_count": 40,
      "metadata": {},
      "outputs": [],
      "source": [
        "# Data load for 5-1\n",
        "data_loc = 'https://github.com/dknife/ML/raw/main/data/'\n",
        "life = pd.read_csv(data_loc + 'life_expectancy.csv')\n",
        "life.dropna(inplace = True)\n",
        "\n",
        "X = life[['Alcohol', 'Percentage expenditure', 'Polio',\n",
        "         'BMI', 'GDP', 'Thinness 1-19 years']]\n",
        "y = life['Life expectancy']\n",
        "\n",
        "X.reset_index(drop=True, inplace=True)\n",
        "y.reset_index(drop=True, inplace=True)\n",
        "\n",
        "X_train, X_test, y_train, y_test = train_test_split(X, y, test_size=0.2)\n",
        "y_train = y_train.apply(lambda x:round(x))\n",
        "y_test = y_test.apply(lambda x:round(x))"
      ]
    },
    {
      "cell_type": "code",
      "execution_count": 41,
      "metadata": {},
      "outputs": [
        {
          "name": "stdout",
          "output_type": "stream",
          "text": [
            "default KNN MSE: 107.28787878787878\n"
          ]
        }
      ],
      "source": [
        "### [code]\n",
        "from sklearn.neighbors import KNeighborsClassifier\n",
        "from sklearn.metrics import mean_squared_error\n",
        "\n",
        "# MSE of default Sciki-learn KNN\n",
        "model = KNeighborsClassifier()\n",
        "model.fit(X_train, y_train)\n",
        "y_test_hat = model.predict(X_test)\n",
        "\n",
        "mse = mean_squared_error(y_test_hat, y_test)\n",
        "print(F\"default KNN MSE: {mse}\")"
      ]
    },
    {
      "cell_type": "code",
      "execution_count": 12,
      "metadata": {},
      "outputs": [],
      "source": [
        "import numpy as np\n",
        "\n",
        "# use cosine similarity to calculate more efficiently than Euclidean distance\n",
        "def cosine_similarity(a, b):\n",
        "    return np.dot(a, b) / np.linalg.norm(a) / np.linalg.norm(b)\n",
        "\n",
        "def knn(p, data_list, label_list, k=5):\n",
        "    \n",
        "    # similarity each label with @p\n",
        "    similarities = []\n",
        "    for idx, row in data_list.iterrows():\n",
        "        sim, label = cosine_similarity(p, row), label_list[idx]\n",
        "        similarities.append([sim, label])\n",
        "    \n",
        "    label_dict, sim_dict = dict(), dict()\n",
        "    \n",
        "    # Save k neighbor's labels and their similarities\n",
        "    for sim, label in sorted(similarities, key=lambda x: -x[0])[:k]:\n",
        "        if label not in label_dict: label_dict[label] = 1\n",
        "        else: label_dict[label] += 1\n",
        "        \n",
        "        if label not in sim_dict: sim_dict[label] = sim\n",
        "        else: sim_dict[label] += sim\n",
        "    \n",
        "    # When tied, select labels with higher similarity\n",
        "    keys = [key for (key, count) in label_dict.items() if count == max(label_dict.values())]\n",
        "    result = []\n",
        "    for label, sim in sim_dict.items():\n",
        "        if label in keys: result.append([label, sim])\n",
        "    \n",
        "    # return most similar neighbor\n",
        "    return sorted(result, key=lambda x: -x[1])[0][0]"
      ]
    },
    {
      "cell_type": "code",
      "execution_count": 13,
      "metadata": {},
      "outputs": [
        {
          "name": "stdout",
          "output_type": "stream",
          "text": [
            "Implemented KNN MSE: 66.18484848484849\n"
          ]
        }
      ],
      "source": [
        "# MSE of implemented KNN\n",
        "y_test_hat_ = []\n",
        "for idx, row in X_test.iterrows():\n",
        "    y_test_hat_.append(knn(row, X_train, y_train))\n",
        "y_test_hat_ = np.array(y_test_hat_)\n",
        "\n",
        "mse = mean_squared_error(y_test_hat_, y_test)\n",
        "print(F\"Implemented KNN MSE: {mse}\")\n",
        "    "
      ]
    },
    {
      "cell_type": "code",
      "execution_count": 14,
      "metadata": {},
      "outputs": [],
      "source": [
        "# Data load for 5-2\n",
        "from sklearn.datasets import fetch_openml\n",
        "from sklearn.model_selection import train_test_split\n",
        "from sklearn.model_selection import train_test_split\n",
        "\n",
        "mnist = fetch_openml('mnist_784', cache=False)\n",
        "X = mnist.data.astype('float32')\n",
        "y = mnist.target.astype('int64')\n",
        "X /= 255.0\n",
        "\n",
        "X_train, X_test, y_train, y_test = train_test_split(X, y, test_size=0.2, random_state=0)"
      ]
    },
    {
      "cell_type": "code",
      "execution_count": 15,
      "metadata": {},
      "outputs": [
        {
          "data": {
            "text/html": [
              "<div>\n",
              "<style scoped>\n",
              "    .dataframe tbody tr th:only-of-type {\n",
              "        vertical-align: middle;\n",
              "    }\n",
              "\n",
              "    .dataframe tbody tr th {\n",
              "        vertical-align: top;\n",
              "    }\n",
              "\n",
              "    .dataframe thead th {\n",
              "        text-align: right;\n",
              "    }\n",
              "</style>\n",
              "<table border=\"1\" class=\"dataframe\">\n",
              "  <thead>\n",
              "    <tr style=\"text-align: right;\">\n",
              "      <th></th>\n",
              "      <th>pixel1</th>\n",
              "      <th>pixel2</th>\n",
              "      <th>pixel3</th>\n",
              "      <th>pixel4</th>\n",
              "      <th>pixel5</th>\n",
              "      <th>pixel6</th>\n",
              "      <th>pixel7</th>\n",
              "      <th>pixel8</th>\n",
              "      <th>pixel9</th>\n",
              "      <th>pixel10</th>\n",
              "      <th>...</th>\n",
              "      <th>pixel775</th>\n",
              "      <th>pixel776</th>\n",
              "      <th>pixel777</th>\n",
              "      <th>pixel778</th>\n",
              "      <th>pixel779</th>\n",
              "      <th>pixel780</th>\n",
              "      <th>pixel781</th>\n",
              "      <th>pixel782</th>\n",
              "      <th>pixel783</th>\n",
              "      <th>pixel784</th>\n",
              "    </tr>\n",
              "  </thead>\n",
              "  <tbody>\n",
              "    <tr>\n",
              "      <th>10840</th>\n",
              "      <td>0.0</td>\n",
              "      <td>0.0</td>\n",
              "      <td>0.0</td>\n",
              "      <td>0.0</td>\n",
              "      <td>0.0</td>\n",
              "      <td>0.0</td>\n",
              "      <td>0.0</td>\n",
              "      <td>0.0</td>\n",
              "      <td>0.0</td>\n",
              "      <td>0.0</td>\n",
              "      <td>...</td>\n",
              "      <td>0.0</td>\n",
              "      <td>0.0</td>\n",
              "      <td>0.0</td>\n",
              "      <td>0.0</td>\n",
              "      <td>0.0</td>\n",
              "      <td>0.0</td>\n",
              "      <td>0.0</td>\n",
              "      <td>0.0</td>\n",
              "      <td>0.0</td>\n",
              "      <td>0.0</td>\n",
              "    </tr>\n",
              "    <tr>\n",
              "      <th>56267</th>\n",
              "      <td>0.0</td>\n",
              "      <td>0.0</td>\n",
              "      <td>0.0</td>\n",
              "      <td>0.0</td>\n",
              "      <td>0.0</td>\n",
              "      <td>0.0</td>\n",
              "      <td>0.0</td>\n",
              "      <td>0.0</td>\n",
              "      <td>0.0</td>\n",
              "      <td>0.0</td>\n",
              "      <td>...</td>\n",
              "      <td>0.0</td>\n",
              "      <td>0.0</td>\n",
              "      <td>0.0</td>\n",
              "      <td>0.0</td>\n",
              "      <td>0.0</td>\n",
              "      <td>0.0</td>\n",
              "      <td>0.0</td>\n",
              "      <td>0.0</td>\n",
              "      <td>0.0</td>\n",
              "      <td>0.0</td>\n",
              "    </tr>\n",
              "    <tr>\n",
              "      <th>14849</th>\n",
              "      <td>0.0</td>\n",
              "      <td>0.0</td>\n",
              "      <td>0.0</td>\n",
              "      <td>0.0</td>\n",
              "      <td>0.0</td>\n",
              "      <td>0.0</td>\n",
              "      <td>0.0</td>\n",
              "      <td>0.0</td>\n",
              "      <td>0.0</td>\n",
              "      <td>0.0</td>\n",
              "      <td>...</td>\n",
              "      <td>0.0</td>\n",
              "      <td>0.0</td>\n",
              "      <td>0.0</td>\n",
              "      <td>0.0</td>\n",
              "      <td>0.0</td>\n",
              "      <td>0.0</td>\n",
              "      <td>0.0</td>\n",
              "      <td>0.0</td>\n",
              "      <td>0.0</td>\n",
              "      <td>0.0</td>\n",
              "    </tr>\n",
              "    <tr>\n",
              "      <th>62726</th>\n",
              "      <td>0.0</td>\n",
              "      <td>0.0</td>\n",
              "      <td>0.0</td>\n",
              "      <td>0.0</td>\n",
              "      <td>0.0</td>\n",
              "      <td>0.0</td>\n",
              "      <td>0.0</td>\n",
              "      <td>0.0</td>\n",
              "      <td>0.0</td>\n",
              "      <td>0.0</td>\n",
              "      <td>...</td>\n",
              "      <td>0.0</td>\n",
              "      <td>0.0</td>\n",
              "      <td>0.0</td>\n",
              "      <td>0.0</td>\n",
              "      <td>0.0</td>\n",
              "      <td>0.0</td>\n",
              "      <td>0.0</td>\n",
              "      <td>0.0</td>\n",
              "      <td>0.0</td>\n",
              "      <td>0.0</td>\n",
              "    </tr>\n",
              "    <tr>\n",
              "      <th>47180</th>\n",
              "      <td>0.0</td>\n",
              "      <td>0.0</td>\n",
              "      <td>0.0</td>\n",
              "      <td>0.0</td>\n",
              "      <td>0.0</td>\n",
              "      <td>0.0</td>\n",
              "      <td>0.0</td>\n",
              "      <td>0.0</td>\n",
              "      <td>0.0</td>\n",
              "      <td>0.0</td>\n",
              "      <td>...</td>\n",
              "      <td>0.0</td>\n",
              "      <td>0.0</td>\n",
              "      <td>0.0</td>\n",
              "      <td>0.0</td>\n",
              "      <td>0.0</td>\n",
              "      <td>0.0</td>\n",
              "      <td>0.0</td>\n",
              "      <td>0.0</td>\n",
              "      <td>0.0</td>\n",
              "      <td>0.0</td>\n",
              "    </tr>\n",
              "    <tr>\n",
              "      <th>...</th>\n",
              "      <td>...</td>\n",
              "      <td>...</td>\n",
              "      <td>...</td>\n",
              "      <td>...</td>\n",
              "      <td>...</td>\n",
              "      <td>...</td>\n",
              "      <td>...</td>\n",
              "      <td>...</td>\n",
              "      <td>...</td>\n",
              "      <td>...</td>\n",
              "      <td>...</td>\n",
              "      <td>...</td>\n",
              "      <td>...</td>\n",
              "      <td>...</td>\n",
              "      <td>...</td>\n",
              "      <td>...</td>\n",
              "      <td>...</td>\n",
              "      <td>...</td>\n",
              "      <td>...</td>\n",
              "      <td>...</td>\n",
              "      <td>...</td>\n",
              "    </tr>\n",
              "    <tr>\n",
              "      <th>29357</th>\n",
              "      <td>0.0</td>\n",
              "      <td>0.0</td>\n",
              "      <td>0.0</td>\n",
              "      <td>0.0</td>\n",
              "      <td>0.0</td>\n",
              "      <td>0.0</td>\n",
              "      <td>0.0</td>\n",
              "      <td>0.0</td>\n",
              "      <td>0.0</td>\n",
              "      <td>0.0</td>\n",
              "      <td>...</td>\n",
              "      <td>0.0</td>\n",
              "      <td>0.0</td>\n",
              "      <td>0.0</td>\n",
              "      <td>0.0</td>\n",
              "      <td>0.0</td>\n",
              "      <td>0.0</td>\n",
              "      <td>0.0</td>\n",
              "      <td>0.0</td>\n",
              "      <td>0.0</td>\n",
              "      <td>0.0</td>\n",
              "    </tr>\n",
              "    <tr>\n",
              "      <th>52488</th>\n",
              "      <td>0.0</td>\n",
              "      <td>0.0</td>\n",
              "      <td>0.0</td>\n",
              "      <td>0.0</td>\n",
              "      <td>0.0</td>\n",
              "      <td>0.0</td>\n",
              "      <td>0.0</td>\n",
              "      <td>0.0</td>\n",
              "      <td>0.0</td>\n",
              "      <td>0.0</td>\n",
              "      <td>...</td>\n",
              "      <td>0.0</td>\n",
              "      <td>0.0</td>\n",
              "      <td>0.0</td>\n",
              "      <td>0.0</td>\n",
              "      <td>0.0</td>\n",
              "      <td>0.0</td>\n",
              "      <td>0.0</td>\n",
              "      <td>0.0</td>\n",
              "      <td>0.0</td>\n",
              "      <td>0.0</td>\n",
              "    </tr>\n",
              "    <tr>\n",
              "      <th>9603</th>\n",
              "      <td>0.0</td>\n",
              "      <td>0.0</td>\n",
              "      <td>0.0</td>\n",
              "      <td>0.0</td>\n",
              "      <td>0.0</td>\n",
              "      <td>0.0</td>\n",
              "      <td>0.0</td>\n",
              "      <td>0.0</td>\n",
              "      <td>0.0</td>\n",
              "      <td>0.0</td>\n",
              "      <td>...</td>\n",
              "      <td>0.0</td>\n",
              "      <td>0.0</td>\n",
              "      <td>0.0</td>\n",
              "      <td>0.0</td>\n",
              "      <td>0.0</td>\n",
              "      <td>0.0</td>\n",
              "      <td>0.0</td>\n",
              "      <td>0.0</td>\n",
              "      <td>0.0</td>\n",
              "      <td>0.0</td>\n",
              "    </tr>\n",
              "    <tr>\n",
              "      <th>34949</th>\n",
              "      <td>0.0</td>\n",
              "      <td>0.0</td>\n",
              "      <td>0.0</td>\n",
              "      <td>0.0</td>\n",
              "      <td>0.0</td>\n",
              "      <td>0.0</td>\n",
              "      <td>0.0</td>\n",
              "      <td>0.0</td>\n",
              "      <td>0.0</td>\n",
              "      <td>0.0</td>\n",
              "      <td>...</td>\n",
              "      <td>0.0</td>\n",
              "      <td>0.0</td>\n",
              "      <td>0.0</td>\n",
              "      <td>0.0</td>\n",
              "      <td>0.0</td>\n",
              "      <td>0.0</td>\n",
              "      <td>0.0</td>\n",
              "      <td>0.0</td>\n",
              "      <td>0.0</td>\n",
              "      <td>0.0</td>\n",
              "    </tr>\n",
              "    <tr>\n",
              "      <th>25193</th>\n",
              "      <td>0.0</td>\n",
              "      <td>0.0</td>\n",
              "      <td>0.0</td>\n",
              "      <td>0.0</td>\n",
              "      <td>0.0</td>\n",
              "      <td>0.0</td>\n",
              "      <td>0.0</td>\n",
              "      <td>0.0</td>\n",
              "      <td>0.0</td>\n",
              "      <td>0.0</td>\n",
              "      <td>...</td>\n",
              "      <td>0.0</td>\n",
              "      <td>0.0</td>\n",
              "      <td>0.0</td>\n",
              "      <td>0.0</td>\n",
              "      <td>0.0</td>\n",
              "      <td>0.0</td>\n",
              "      <td>0.0</td>\n",
              "      <td>0.0</td>\n",
              "      <td>0.0</td>\n",
              "      <td>0.0</td>\n",
              "    </tr>\n",
              "  </tbody>\n",
              "</table>\n",
              "<p>14000 rows × 784 columns</p>\n",
              "</div>"
            ],
            "text/plain": [
              "       pixel1  pixel2  pixel3  pixel4  pixel5  pixel6  pixel7  pixel8  pixel9  \\\n",
              "10840     0.0     0.0     0.0     0.0     0.0     0.0     0.0     0.0     0.0   \n",
              "56267     0.0     0.0     0.0     0.0     0.0     0.0     0.0     0.0     0.0   \n",
              "14849     0.0     0.0     0.0     0.0     0.0     0.0     0.0     0.0     0.0   \n",
              "62726     0.0     0.0     0.0     0.0     0.0     0.0     0.0     0.0     0.0   \n",
              "47180     0.0     0.0     0.0     0.0     0.0     0.0     0.0     0.0     0.0   \n",
              "...       ...     ...     ...     ...     ...     ...     ...     ...     ...   \n",
              "29357     0.0     0.0     0.0     0.0     0.0     0.0     0.0     0.0     0.0   \n",
              "52488     0.0     0.0     0.0     0.0     0.0     0.0     0.0     0.0     0.0   \n",
              "9603      0.0     0.0     0.0     0.0     0.0     0.0     0.0     0.0     0.0   \n",
              "34949     0.0     0.0     0.0     0.0     0.0     0.0     0.0     0.0     0.0   \n",
              "25193     0.0     0.0     0.0     0.0     0.0     0.0     0.0     0.0     0.0   \n",
              "\n",
              "       pixel10  ...  pixel775  pixel776  pixel777  pixel778  pixel779  \\\n",
              "10840      0.0  ...       0.0       0.0       0.0       0.0       0.0   \n",
              "56267      0.0  ...       0.0       0.0       0.0       0.0       0.0   \n",
              "14849      0.0  ...       0.0       0.0       0.0       0.0       0.0   \n",
              "62726      0.0  ...       0.0       0.0       0.0       0.0       0.0   \n",
              "47180      0.0  ...       0.0       0.0       0.0       0.0       0.0   \n",
              "...        ...  ...       ...       ...       ...       ...       ...   \n",
              "29357      0.0  ...       0.0       0.0       0.0       0.0       0.0   \n",
              "52488      0.0  ...       0.0       0.0       0.0       0.0       0.0   \n",
              "9603       0.0  ...       0.0       0.0       0.0       0.0       0.0   \n",
              "34949      0.0  ...       0.0       0.0       0.0       0.0       0.0   \n",
              "25193      0.0  ...       0.0       0.0       0.0       0.0       0.0   \n",
              "\n",
              "       pixel780  pixel781  pixel782  pixel783  pixel784  \n",
              "10840       0.0       0.0       0.0       0.0       0.0  \n",
              "56267       0.0       0.0       0.0       0.0       0.0  \n",
              "14849       0.0       0.0       0.0       0.0       0.0  \n",
              "62726       0.0       0.0       0.0       0.0       0.0  \n",
              "47180       0.0       0.0       0.0       0.0       0.0  \n",
              "...         ...       ...       ...       ...       ...  \n",
              "29357       0.0       0.0       0.0       0.0       0.0  \n",
              "52488       0.0       0.0       0.0       0.0       0.0  \n",
              "9603        0.0       0.0       0.0       0.0       0.0  \n",
              "34949       0.0       0.0       0.0       0.0       0.0  \n",
              "25193       0.0       0.0       0.0       0.0       0.0  \n",
              "\n",
              "[14000 rows x 784 columns]"
            ]
          },
          "execution_count": 15,
          "metadata": {},
          "output_type": "execute_result"
        }
      ],
      "source": [
        "X_test"
      ]
    },
    {
      "cell_type": "code",
      "execution_count": 16,
      "metadata": {},
      "outputs": [
        {
          "data": {
            "image/png": "[encoded data removed]",
            "text/plain": [
              "<Figure size 432x288 with 5 Axes>"
            ]
          },
          "metadata": {},
          "output_type": "display_data"
        }
      ],
      "source": [
        "import matplotlib.pyplot as plt\n",
        "def plot_example(X, y):\n",
        "    \"\"\"Plot the first 5 images and their labels in a row.\"\"\"\n",
        "    for i, (img, y) in enumerate(zip(X[:5].values.reshape(5, 28, 28), y[:5])):\n",
        "        plt.subplot(151 + i)\n",
        "        plt.imshow(img)\n",
        "        plt.xticks([])\n",
        "        plt.yticks([])\n",
        "        plt.title(y)\n",
        "plot_example(X, y)"
      ]
    },
    {
      "cell_type": "code",
      "execution_count": 18,
      "metadata": {},
      "outputs": [
        {
          "name": "stdout",
          "output_type": "stream",
          "text": [
            "default KNN accuracy: 0.9693571428571428\n"
          ]
        }
      ],
      "source": [
        "from sklearn.metrics import accuracy_score\n",
        "\n",
        "# Accuracy of default Scikit-learn KNN\n",
        "model = KNeighborsClassifier()\n",
        "model.fit(X_train, y_train)\n",
        "y_test_hat = model.predict(X_test)\n",
        "acc = accuracy_score(y_test, y_test_hat)\n",
        "print(F\"default KNN accuracy: {acc}\")"
      ]
    },
    {
      "cell_type": "code",
      "execution_count": 19,
      "metadata": {},
      "outputs": [],
      "source": [
        "# predict with Implemented KNN\n",
        "y_test_hat_ = []\n",
        "for idx, row in X_test.iterrows():\n",
        "    y_test_hat_.append(knn(row, X_train.sample(frac=0.1), y_train))"
      ]
    },
    {
      "cell_type": "code",
      "execution_count": 20,
      "metadata": {},
      "outputs": [
        {
          "name": "stdout",
          "output_type": "stream",
          "text": [
            "Implemented KNN accuracy: 0.946\n"
          ]
        }
      ],
      "source": [
        "# Accuracy of Implemented KNN\n",
        "acc = accuracy_score(y_test, y_test_hat_)\n",
        "print(F\"Implemented KNN accuracy: {acc}\")"
      ]
    }
  ],
  "metadata": {
    "colab": {
      "name": "중간고사_대체_레포트.ipynb",
      "provenance": []
    },
    "kernelspec": {
      "display_name": "Python 3",
      "name": "python3"
    },
    "language_info": {
      "codemirror_mode": {
        "name": "ipython",
        "version": 3
      },
      "file_extension": ".py",
      "mimetype": "text/x-python",
      "name": "python",
      "nbconvert_exporter": "python",
      "pygments_lexer": "ipython3",
      "version": "3.8.13"
    }
  },
  "nbformat": 4,
  "nbformat_minor": 0
}
